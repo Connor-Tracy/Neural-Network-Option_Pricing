{
 "cells": [
  {
   "cell_type": "code",
   "execution_count": 17,
   "metadata": {},
   "outputs": [],
   "source": [
    "from scipy.stats import norm\n",
    "from tensorflow import keras\n",
    "import numpy as np\n",
    "import pandas as pd\n",
    "import timeit\n",
    "data = pd.read_csv('.\\\\data\\\\calls_OMrates587569.csv')\n",
    "# columns: 'strike', 'moneyness', 'rate', 'volatility', 'days_to_maturity', 'contract_price'"
   ]
  },
  {
   "cell_type": "code",
   "execution_count": 18,
   "metadata": {},
   "outputs": [
    {
     "data": {
      "text/plain": [
       "587569"
      ]
     },
     "execution_count": 18,
     "metadata": {},
     "output_type": "execute_result"
    }
   ],
   "source": [
    "len(data)"
   ]
  },
  {
   "cell_type": "code",
   "execution_count": 19,
   "metadata": {},
   "outputs": [],
   "source": [
    "# Black-Scholes formula: C = N(d1)S - N(d2)*K*e^{-r*T},\n",
    "# where N is Normal CDF, and\n",
    "# d1 = ( (log M) + (r+0.5*var^2)*t )/(var*T**0.5),\n",
    "# d2 = d1 - var*T**0.5, for M = S/K so also\n",
    "# C = K*( N(d1)*M - N(d2)*e^{-r*T} ).\n",
    "\n",
    "def black_scholes(df): # Returns analytical B-S prices for each row of inputs in df\n",
    "    N      = lambda vec: norm.cdf(vec)\n",
    "    mats   = df.days_to_maturity / 365\n",
    "    d1_num = np.log(df.moneyness) + (df.rate + 0.5 * df.volatility ** 2) * mats\n",
    "    d1_den = df.volatility * mats ** 0.5\n",
    "    d1     = d1_num / d1_den\n",
    "    d2     = d1 - d1_den\n",
    "    return df.strike * ( N(d1) * df.moneyness - N(d2) * np.exp(-df.rate * mats) )\n",
    "\n",
    "data['bs_prices'] = black_scholes(data)\n",
    "bs_mse  = np.sum( (data.bs_prices - data.contract_price) ** 2 ) / len(data)\n",
    "bs_mape = 100 * sum( np.abs(data.bs_prices - data.contract_price) / data.contract_price ) / len(data)"
   ]
  },
  {
   "cell_type": "code",
   "execution_count": 20,
   "metadata": {},
   "outputs": [
    {
     "name": "stdout",
     "output_type": "stream",
     "text": [
      "bs_mse  0.1496\n",
      "bs_mape 98.7203\n"
     ]
    }
   ],
   "source": [
    "print(f'bs_mse  {bs_mse:.4f}')   # Average BS squared error is ~0.15\n",
    "print(f'bs_mape {bs_mape:.4f}')  # Average absolute percentage error is almost 100%(!). We can do much better..."
   ]
  },
  {
   "cell_type": "code",
   "execution_count": null,
   "metadata": {},
   "outputs": [],
   "source": []
  },
  {
   "cell_type": "markdown",
   "metadata": {},
   "source": [
    "The below is NOT the test loss as this is evaluating on all data, including training data, so only to visualise some example prices and estimates. The reported loss is the last 3 epochs' averaged validation error reported as a loss metric by TensorFlow."
   ]
  },
  {
   "cell_type": "code",
   "execution_count": 21,
   "metadata": {},
   "outputs": [],
   "source": [
    "logdir = '.\\\\trained_models_and_logs\\\\accuracy\\\\saved_model_accuracy'\n",
    "saved_model = keras.models.load_model(logdir)\n",
    "data['nn_prices'] = saved_model.predict(data[data.columns[:5]].to_numpy())\n",
    "nn_mse  = np.sum( (data.nn_prices - data.contract_price) ** 2 ) / len(data)\n",
    "nn_mape = 100 * sum( np.abs(data.nn_prices - data.contract_price) / data.contract_price ) / len(data)"
   ]
  },
  {
   "cell_type": "code",
   "execution_count": 24,
   "metadata": {},
   "outputs": [
    {
     "name": "stdout",
     "output_type": "stream",
     "text": [
      "nn_mse  0.0072\n",
      "nn_mape 30.8152\n"
     ]
    }
   ],
   "source": [
    "print(f'nn_mse  {nn_mse:.4f}')   # Average NN squared error is ~0.0072\n",
    "print(f'nn_mape {nn_mape:.4f}')  # Average absolute percentage error is 30.8%"
   ]
  },
  {
   "cell_type": "code",
   "execution_count": 25,
   "metadata": {
    "scrolled": false
   },
   "outputs": [
    {
     "data": {
      "text/html": [
       "<div>\n",
       "<style scoped>\n",
       "    .dataframe tbody tr th:only-of-type {\n",
       "        vertical-align: middle;\n",
       "    }\n",
       "\n",
       "    .dataframe tbody tr th {\n",
       "        vertical-align: top;\n",
       "    }\n",
       "\n",
       "    .dataframe thead th {\n",
       "        text-align: right;\n",
       "    }\n",
       "</style>\n",
       "<table border=\"1\" class=\"dataframe\">\n",
       "  <thead>\n",
       "    <tr style=\"text-align: right;\">\n",
       "      <th></th>\n",
       "      <th>strike</th>\n",
       "      <th>moneyness</th>\n",
       "      <th>rate</th>\n",
       "      <th>volatility</th>\n",
       "      <th>days_to_maturity</th>\n",
       "      <th>contract_price</th>\n",
       "      <th>bs_prices</th>\n",
       "      <th>nn_prices</th>\n",
       "    </tr>\n",
       "  </thead>\n",
       "  <tbody>\n",
       "    <tr>\n",
       "      <th>587564</th>\n",
       "      <td>8.3</td>\n",
       "      <td>0.984217</td>\n",
       "      <td>0.025156</td>\n",
       "      <td>0.103653</td>\n",
       "      <td>29.0</td>\n",
       "      <td>0.0640</td>\n",
       "      <td>0.049331</td>\n",
       "      <td>0.071956</td>\n",
       "    </tr>\n",
       "    <tr>\n",
       "      <th>587565</th>\n",
       "      <td>8.3</td>\n",
       "      <td>0.991928</td>\n",
       "      <td>0.024910</td>\n",
       "      <td>0.091511</td>\n",
       "      <td>23.0</td>\n",
       "      <td>0.0850</td>\n",
       "      <td>0.051747</td>\n",
       "      <td>0.078279</td>\n",
       "    </tr>\n",
       "    <tr>\n",
       "      <th>587566</th>\n",
       "      <td>8.4</td>\n",
       "      <td>0.975833</td>\n",
       "      <td>0.025798</td>\n",
       "      <td>0.080632</td>\n",
       "      <td>57.0</td>\n",
       "      <td>0.1000</td>\n",
       "      <td>0.041590</td>\n",
       "      <td>0.076956</td>\n",
       "    </tr>\n",
       "    <tr>\n",
       "      <th>587567</th>\n",
       "      <td>8.5</td>\n",
       "      <td>0.964353</td>\n",
       "      <td>0.025798</td>\n",
       "      <td>0.080632</td>\n",
       "      <td>57.0</td>\n",
       "      <td>0.0745</td>\n",
       "      <td>0.021583</td>\n",
       "      <td>0.063407</td>\n",
       "    </tr>\n",
       "    <tr>\n",
       "      <th>587568</th>\n",
       "      <td>8.4</td>\n",
       "      <td>0.973095</td>\n",
       "      <td>0.025731</td>\n",
       "      <td>0.113304</td>\n",
       "      <td>38.0</td>\n",
       "      <td>0.0600</td>\n",
       "      <td>0.045252</td>\n",
       "      <td>0.066345</td>\n",
       "    </tr>\n",
       "  </tbody>\n",
       "</table>\n",
       "</div>"
      ],
      "text/plain": [
       "        strike  moneyness      rate  volatility  days_to_maturity  \\\n",
       "587564     8.3   0.984217  0.025156    0.103653              29.0   \n",
       "587565     8.3   0.991928  0.024910    0.091511              23.0   \n",
       "587566     8.4   0.975833  0.025798    0.080632              57.0   \n",
       "587567     8.5   0.964353  0.025798    0.080632              57.0   \n",
       "587568     8.4   0.973095  0.025731    0.113304              38.0   \n",
       "\n",
       "        contract_price  bs_prices  nn_prices  \n",
       "587564          0.0640   0.049331   0.071956  \n",
       "587565          0.0850   0.051747   0.078279  \n",
       "587566          0.1000   0.041590   0.076956  \n",
       "587567          0.0745   0.021583   0.063407  \n",
       "587568          0.0600   0.045252   0.066345  "
      ]
     },
     "execution_count": 25,
     "metadata": {},
     "output_type": "execute_result"
    }
   ],
   "source": [
    "data.tail() # Some example values"
   ]
  }
 ],
 "metadata": {
  "kernelspec": {
   "display_name": "Python 3",
   "language": "python",
   "name": "python3"
  },
  "language_info": {
   "codemirror_mode": {
    "name": "ipython",
    "version": 3
   },
   "file_extension": ".py",
   "mimetype": "text/x-python",
   "name": "python",
   "nbconvert_exporter": "python",
   "pygments_lexer": "ipython3",
   "version": "3.7.10"
  }
 },
 "nbformat": 4,
 "nbformat_minor": 4
}
